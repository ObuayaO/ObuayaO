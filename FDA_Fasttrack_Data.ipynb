{
  "nbformat": 4,
  "nbformat_minor": 0,
  "metadata": {
    "colab": {
      "provenance": [],
      "mount_file_id": "1FaHVuB83XWPA-2CReayyV8mDa6jsQuxD",
      "authorship_tag": "ABX9TyO6nlqVSWUL8U8VHSAujx+x",
      "include_colab_link": true
    },
    "kernelspec": {
      "name": "python3",
      "display_name": "Python 3"
    },
    "language_info": {
      "name": "python"
    }
  },
  "cells": [
    {
      "cell_type": "markdown",
      "metadata": {
        "id": "view-in-github",
        "colab_type": "text"
      },
      "source": [
        "<a href=\"https://colab.research.google.com/github/ObuayaO/ObuayaO/blob/main/FDA_Fasttrack_Data.ipynb\" target=\"_parent\"><img src=\"https://colab.research.google.com/assets/colab-badge.svg\" alt=\"Open In Colab\"/></a>"
      ]
    },
    {
      "cell_type": "code",
      "execution_count": null,
      "metadata": {
        "id": "TNKa5U5xQKP6"
      },
      "outputs": [],
      "source": []
    },
    {
      "cell_type": "code",
      "source": [
        "from google.colab import drive\n",
        "drive.mount('/content/drive')"
      ],
      "metadata": {
        "colab": {
          "base_uri": "https://localhost:8080/"
        },
        "id": "yLIc89YyQbyl",
        "outputId": "234942e1-5bca-4fe8-f1f5-4e42faf78b6f"
      },
      "execution_count": 1,
      "outputs": [
        {
          "output_type": "stream",
          "name": "stdout",
          "text": [
            "Drive already mounted at /content/drive; to attempt to forcibly remount, call drive.mount(\"/content/drive\", force_remount=True).\n"
          ]
        }
      ]
    },
    {
      "cell_type": "code",
      "source": [
        "pip install tabula-py"
      ],
      "metadata": {
        "colab": {
          "base_uri": "https://localhost:8080/"
        },
        "id": "TfIZQD6LQovl",
        "outputId": "c9a256a7-c178-453c-a605-01fc6d9bf82f"
      },
      "execution_count": 2,
      "outputs": [
        {
          "output_type": "stream",
          "name": "stdout",
          "text": [
            "Requirement already satisfied: tabula-py in /usr/local/lib/python3.10/dist-packages (2.9.0)\n",
            "Requirement already satisfied: pandas>=0.25.3 in /usr/local/lib/python3.10/dist-packages (from tabula-py) (1.5.3)\n",
            "Requirement already satisfied: numpy in /usr/local/lib/python3.10/dist-packages (from tabula-py) (1.23.5)\n",
            "Requirement already satisfied: distro in /usr/lib/python3/dist-packages (from tabula-py) (1.7.0)\n",
            "Requirement already satisfied: python-dateutil>=2.8.1 in /usr/local/lib/python3.10/dist-packages (from pandas>=0.25.3->tabula-py) (2.8.2)\n",
            "Requirement already satisfied: pytz>=2020.1 in /usr/local/lib/python3.10/dist-packages (from pandas>=0.25.3->tabula-py) (2023.3.post1)\n",
            "Requirement already satisfied: six>=1.5 in /usr/local/lib/python3.10/dist-packages (from python-dateutil>=2.8.1->pandas>=0.25.3->tabula-py) (1.16.0)\n"
          ]
        }
      ]
    },
    {
      "cell_type": "code",
      "source": [
        "import tabula"
      ],
      "metadata": {
        "id": "cesKCbl0Q5mm"
      },
      "execution_count": 3,
      "outputs": []
    },
    {
      "cell_type": "code",
      "source": [
        "file1 = \"/content/drive/MyDrive/University of Edinburgh - PhD/Surrogate Outcomes: Modelling uptake in clinical trials and deriving from multiple biomarkers/Year 2/Comparison Paper/CDER CY 23 FT Approvals 9-30-23.pdf\"\n",
        "\n",
        "column_names = ['Appl Type Number', 'Submission Type and Number', 'Proprietary Name','Established Name', 'Applicant', 'Approval Date', 'Use']\n",
        "\n",
        "table1 = tabula.read_pdf(file1, pages= 'all')[0]"
      ],
      "metadata": {
        "colab": {
          "base_uri": "https://localhost:8080/"
        },
        "id": "4V7aZTV8Q_WT",
        "outputId": "522a0dae-54ea-41ff-a7e3-41abc927f86f"
      },
      "execution_count": 4,
      "outputs": [
        {
          "output_type": "stream",
          "name": "stderr",
          "text": [
            "WARNING:tabula.backend:Error importing jpype dependencies. Fallback to subprocess.\n",
            "WARNING:tabula.backend:No module named 'jpype'\n"
          ]
        }
      ]
    },
    {
      "cell_type": "code",
      "source": [
        "table1.to_excel(\"/content/drive/MyDrive/University of Edinburgh - PhD/Surrogate Outcomes: Modelling uptake in clinical trials and deriving from multiple biomarkers/Year 2/Comparison Paper/FTapprovals23.xlsx\")"
      ],
      "metadata": {
        "id": "7WIk0BehT8xZ"
      },
      "execution_count": 5,
      "outputs": []
    },
    {
      "cell_type": "code",
      "source": [
        "import pandas as pd"
      ],
      "metadata": {
        "id": "laNTTXIS5lBk"
      },
      "execution_count": 9,
      "outputs": []
    },
    {
      "cell_type": "code",
      "source": [
        "file2 = \"/content/drive/MyDrive/University of Edinburgh - PhD/Surrogate Outcomes: Modelling uptake in clinical trials and deriving from multiple biomarkers/Year 2/Comparison Paper/CDER Cum FT APPS 12-31-22.pdf\"\n",
        "\n",
        "column_names = ['Appl Type Number', 'Submission Type and Number', 'Proprietary Name','Established Name', 'Applicant', 'Approval Date', 'Use']\n",
        "\n",
        "table2 = tabula.read_pdf(file2, pages= 'all')\n",
        "\n",
        "for idx, table in enumerate(table2):\n",
        "  table.columns = [f'column_names{i + 1}' for i in range(len(table.columns))]\n"
      ],
      "metadata": {
        "id": "kmnOLV-e58pd"
      },
      "execution_count": 27,
      "outputs": []
    },
    {
      "cell_type": "code",
      "source": [
        "merged_table2 = pd.concat(table2, axis=1, ignore_index=False)\n",
        "\n",
        "merged_table2.to_excel(\"/content/drive/MyDrive/University of Edinburgh - PhD/Surrogate Outcomes: Modelling uptake in clinical trials and deriving from multiple biomarkers/Year 2/Comparison Paper/FTapprovals12-22.xlsx\", index=False)"
      ],
      "metadata": {
        "id": "z05mXHCF_HUH"
      },
      "execution_count": 28,
      "outputs": []
    },
    {
      "cell_type": "code",
      "source": [
        "table2.to_excel(\"/content/drive/MyDrive/University of Edinburgh - PhD/Surrogate Outcomes: Modelling uptake in clinical trials and deriving from multiple biomarkers/Year 2/Comparison Paper/FTapprovals12-22.xlsx\")"
      ],
      "metadata": {
        "colab": {
          "base_uri": "https://localhost:8080/",
          "height": 193
        },
        "id": "UU59ldz9yXJM",
        "outputId": "595409ef-8fe9-4e97-d890-27d6ff40b088"
      },
      "execution_count": 22,
      "outputs": [
        {
          "output_type": "error",
          "ename": "AttributeError",
          "evalue": "ignored",
          "traceback": [
            "\u001b[0;31m---------------------------------------------------------------------------\u001b[0m",
            "\u001b[0;31mAttributeError\u001b[0m                            Traceback (most recent call last)",
            "\u001b[0;32m<ipython-input-22-c8100e325f48>\u001b[0m in \u001b[0;36m<cell line: 1>\u001b[0;34m()\u001b[0m\n\u001b[0;32m----> 1\u001b[0;31m \u001b[0mtable2\u001b[0m\u001b[0;34m.\u001b[0m\u001b[0mto_excel\u001b[0m\u001b[0;34m(\u001b[0m\u001b[0;34m\"/content/drive/MyDrive/University of Edinburgh - PhD/Surrogate Outcomes: Modelling uptake in clinical trials and deriving from multiple biomarkers/Year 2/Comparison Paper/FTapprovals12-22.xlsx\"\u001b[0m\u001b[0;34m)\u001b[0m\u001b[0;34m\u001b[0m\u001b[0;34m\u001b[0m\u001b[0m\n\u001b[0m",
            "\u001b[0;31mAttributeError\u001b[0m: 'list' object has no attribute 'to_excel'"
          ]
        }
      ]
    },
    {
      "cell_type": "code",
      "source": [
        "list(file2)"
      ],
      "metadata": {
        "colab": {
          "base_uri": "https://localhost:8080/",
          "height": 176
        },
        "id": "czZ4CSGL9Uhz",
        "outputId": "a11853c0-7496-4838-a4e4-998581c8b203"
      },
      "execution_count": 20,
      "outputs": [
        {
          "output_type": "error",
          "ename": "NameError",
          "evalue": "ignored",
          "traceback": [
            "\u001b[0;31m---------------------------------------------------------------------------\u001b[0m",
            "\u001b[0;31mNameError\u001b[0m                                 Traceback (most recent call last)",
            "\u001b[0;32m<ipython-input-20-a4480791ad09>\u001b[0m in \u001b[0;36m<cell line: 1>\u001b[0;34m()\u001b[0m\n\u001b[0;32m----> 1\u001b[0;31m \u001b[0mlist\u001b[0m\u001b[0;34m(\u001b[0m\u001b[0mfile2_columns\u001b[0m\u001b[0;34m)\u001b[0m\u001b[0;34m\u001b[0m\u001b[0;34m\u001b[0m\u001b[0m\n\u001b[0m",
            "\u001b[0;31mNameError\u001b[0m: name 'file2_columns' is not defined"
          ]
        }
      ]
    },
    {
      "cell_type": "code",
      "source": [
        "pwd"
      ],
      "metadata": {
        "colab": {
          "base_uri": "https://localhost:8080/",
          "height": 35
        },
        "id": "EPQEChD_XAXE",
        "outputId": "797c86f8-a311-416a-f23d-0b70763362a3"
      },
      "execution_count": 8,
      "outputs": [
        {
          "output_type": "execute_result",
          "data": {
            "text/plain": [
              "'/content'"
            ],
            "application/vnd.google.colaboratory.intrinsic+json": {
              "type": "string"
            }
          },
          "metadata": {},
          "execution_count": 8
        }
      ]
    }
  ]
}